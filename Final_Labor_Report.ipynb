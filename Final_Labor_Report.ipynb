{
 "cells": [
  {
   "cell_type": "markdown",
   "id": "aef06e73",
   "metadata": {},
   "source": [
    "# Analysis of U.S. Labor Demographics (1972-2015)\n",
    "Braeden Wright | April 2022\n",
    "\n",
    "------\n",
    "# Project Goal\n",
    "\n",
    "Analyze the U.S. Department of Labor statistics data for the U.S. labor force. Looking at the data, I want to try and predict future employment/ unemployment rate based on previous years data, if possible with the data available. Barring that, analyzing the data may also give insight into what populations have been affected the most when economic With the data being sorted within a timeframe, it will be an excellent opportunity to continue honing my time series analysis skills.\n",
    "\n",
    "If any other notable trends appear they will certainly be investigated, and suggestions on how to better the dataframe or what other features would be helpful for analysis.\n",
    "\n",
    "------\n",
    "# Planning\n",
    "- Setup github repository and environment (.gitignore, README.md)\n",
    "- Import data from source (.csv)\n",
    "- Prep data for exploration (rename, feature engineer)\n",
    "- Explore questions about the data\n",
    "- Visually represent findings\n",
    "- Report conclusions and recommendations based on data analysis\n",
    "\n",
    "-------\n",
    "# Executive summary\n",
    "***Key Takeaways***\n",
    "- \n",
    "-\n",
    "\n",
    "***Recommendations***\n",
    "-\n",
    "-\n",
    "\n",
    "***Next Steps***\n",
    "-\n",
    "-\n",
    "\n",
    "---------------"
   ]
  },
  {
   "cell_type": "markdown",
   "id": "2e7658d7",
   "metadata": {},
   "source": [
    "## Import Menagerie"
   ]
  },
  {
   "cell_type": "code",
   "execution_count": 2,
   "id": "81dcdcad",
   "metadata": {},
   "outputs": [],
   "source": [
    "# Basics\n",
    "import numpy as np\n",
    "import pandas as pd\n",
    "import scipy.stats as stats\n",
    "from pydataset import data\n",
    "from scipy import math\n",
    "import datetime\n",
    "from datetime import datetime\n",
    "\n",
    "# Visuals\n",
    "import matplotlib.pyplot as plt\n",
    "import seaborn as sns\n",
    "\n",
    "# Models and Metrics\n",
    "from sklearn.preprocessing import MinMaxScaler\n",
    "from sklearn.cluster import KMeans\n",
    "import sklearn.linear_model\n",
    "import sklearn.feature_selection\n",
    "import sklearn.preprocessing\n",
    "from sklearn.linear_model import LogisticRegression\n",
    "from sklearn.neighbors import KNeighborsRegressor\n",
    "from sklearn.metrics import mean_squared_error, r2_score\n",
    "\n",
    "# Make sure we can see the full scale of the data\n",
    "pd.set_option('display.max_columns', None)\n",
    "pd.set_option('display.max_rows', None)\n",
    "\n",
    "# plotting defaults\n",
    "plt.rc('figure', figsize=(11, 5))\n",
    "plt.style.use('seaborn-whitegrid')\n",
    "plt.rc('font', size=16)"
   ]
  },
  {
   "cell_type": "code",
   "execution_count": null,
   "id": "b1515b96",
   "metadata": {},
   "outputs": [],
   "source": []
  },
  {
   "cell_type": "code",
   "execution_count": null,
   "id": "773274c1",
   "metadata": {},
   "outputs": [],
   "source": []
  },
  {
   "cell_type": "code",
   "execution_count": null,
   "id": "604c3cfa",
   "metadata": {},
   "outputs": [],
   "source": []
  },
  {
   "cell_type": "code",
   "execution_count": null,
   "id": "9fe40ecc",
   "metadata": {},
   "outputs": [],
   "source": []
  }
 ],
 "metadata": {
  "kernelspec": {
   "display_name": "Python 3 (ipykernel)",
   "language": "python",
   "name": "python3"
  },
  "language_info": {
   "codemirror_mode": {
    "name": "ipython",
    "version": 3
   },
   "file_extension": ".py",
   "mimetype": "text/x-python",
   "name": "python",
   "nbconvert_exporter": "python",
   "pygments_lexer": "ipython3",
   "version": "3.9.7"
  }
 },
 "nbformat": 4,
 "nbformat_minor": 5
}
